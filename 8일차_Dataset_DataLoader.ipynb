{
 "cells": [
  {
   "cell_type": "code",
   "id": "initial_id",
   "metadata": {
    "collapsed": true,
    "ExecuteTime": {
     "end_time": "2025-10-22T00:15:06.600383Z",
     "start_time": "2025-10-22T00:15:05.186131Z"
    }
   },
   "source": [
    "import pandas as pd\n",
    "import numpy as np\n",
    "\n",
    "# 가상의 데이터 100개 생성\n",
    "num_samples = 100\n",
    "data = {\n",
    "    'jeonse_ratio': np.random.rand(num_samples) * 0.5 + 0.6, # 0.6 ~ 1.1 사이\n",
    "    'debt_ratio': np.random.rand(num_samples) * 0.8,       # 0.0 ~ 0.8 사이\n",
    "    'building_age': np.random.randint(0, 30, num_samples),\n",
    "    'risk_label': np.random.randint(0, 2, num_samples)      # 0(안전) 또는 1(위험)\n",
    "}\n",
    "df = pd.DataFrame(data)\n",
    "\n",
    "# 'dummy_data.csv' 라는 이름으로 파일 저장\n",
    "df.to_csv('dummy_data.csv', index=False)\n",
    "\n",
    "print(\"dummy_data.csv 파일 생성 완료!\")\n",
    "print(df.head())"
   ],
   "outputs": [
    {
     "name": "stdout",
     "output_type": "stream",
     "text": [
      "dummy_data.csv 파일 생성 완료!\n",
      "   jeonse_ratio  debt_ratio  building_age  risk_label\n",
      "0      0.789029    0.472404            13           0\n",
      "1      0.926436    0.228028             4           1\n",
      "2      0.920140    0.209395             9           1\n",
      "3      0.665217    0.214957            21           0\n",
      "4      0.742825    0.757744             4           0\n"
     ]
    }
   ],
   "execution_count": 1
  },
  {
   "metadata": {
    "ExecuteTime": {
     "end_time": "2025-10-22T00:25:28.939737Z",
     "start_time": "2025-10-22T00:25:28.917074Z"
    }
   },
   "cell_type": "code",
   "source": [
    "import torch\n",
    "from torch.utils.data import Dataset, DataLoader\n",
    "import pandas as pd\n",
    "import numpy as np\n",
    "\n",
    "# 1. Dataset 설명서(클래스) 정의\n",
    "class JeonseDataset(Dataset):\n",
    "\n",
    "    # 1-1. __init__(self, csv_path): 초기 준비\n",
    "    def __init__(self, csv_path):\n",
    "        # Pandas로 CSV 파일 읽기\n",
    "        df = pd.read_csv(csv_path)\n",
    "\n",
    "        # 입력 feature와 정답 label 분리\n",
    "        # .values를 붙여 NumPy 배열로 변환 (이후 텐서 변환이 빠름)\n",
    "        self.features = df.drop('risk_label', axis=1).values\n",
    "        self.labels = df['risk_label'].values\n",
    "\n",
    "        print(f\"데이터 로드 완료. 총 샘플 개수: {len(self.labels)}\")\n",
    "\n",
    "    # 1-2. __len__(self): 총 데이터 개수 반환\n",
    "    def __len__(self):\n",
    "        return len(self.labels)\n",
    "\n",
    "    # 1-3. __getitem__(self, idx): idx번째 데이터 1개 반환\n",
    "    def __getitem__(self, idx):\n",
    "        # NumPy 배열에서 idx번째 데이터 추출\n",
    "        feature = self.features[idx]\n",
    "        label = self.labels[idx]\n",
    "\n",
    "        # 데이터를 PyTorch 텐서로 변환 (중요!)\n",
    "        # feature는 float32, label도 float32 (BCELoss를 위해)\n",
    "        feature_tensor = torch.tensor(feature, dtype=torch.float32)\n",
    "        label_tensor = torch.tensor(label, dtype=torch.float32)\n",
    "\n",
    "        # label을 [1.0] 처럼 1차원 텐서로 만들어주면 좋음 (모델 출력과 모양 맞추기)\n",
    "        return feature_tensor, label_tensor.view(1)\n",
    "\n",
    "# --- 3. Dataset 및 DataLoader 사용해보기 ---\n",
    "\n",
    "# 3-1. Dataset 객체(설명서) 생성\n",
    "csv_file_path='dummy_data.csv'\n",
    "dataset=JeonseDataset(csv_file_path)\n",
    "\n",
    "# 3-2. DataLoader 객체(공급기) 생성\n",
    "# 배치 크기를 16으로 설정\n",
    "# shuffle=True로 데이터를 섞음\n",
    "data_loader=DataLoader(dataset, batch_size=16, shuffle=True)\n",
    "\n",
    "print(\"\\n--- DataLoader가 데이터를 묶어주는 방식 확인 ---\")\n",
    "\n",
    "# 3-3. DataLoader가 어떻게 작동하는지 1 epoch만 돌려보기\n",
    "# 'iter'로 감싸고 'next'로 하나만 뽑아볼 수 있습니다.\n",
    "features_batch, labels_batch = next(iter(data_loader))\n",
    "\n",
    "print(f\"총 100개 데이터를 batch_size=16으로 묶었습니다.\")\n",
    "print(f\"첫 번째 배치의 Feature 모양: {features_batch.shape}\")\n",
    "print(f\"첫 번째 배치의 Label 모양: {labels_batch.shape}\")\n",
    "print(\"-\" * 30)\n",
    "print(\"첫 번째 배치의 Feature (앞 5개):\")\n",
    "print(features_batch[:5])\n",
    "print(\"\\n첫 번째 배치의 Label (앞 5개):\")\n",
    "print(labels_batch[:5])\n",
    "\n",
    "# 100개 데이터 / 배치 16개 = 6.25 -> 총 7개의 배치가 나옴 (6개*16 + 1개*4)\n",
    "print(\"\\n--- 전체 배치 순회 ---\")\n",
    "for i, (features, labels) in enumerate(data_loader):\n",
    "    print(f\"Batch {i}: Features shape {features.shape}, Labels shape {labels.shape}\")"
   ],
   "id": "1ec1a50013126e56",
   "outputs": [
    {
     "name": "stdout",
     "output_type": "stream",
     "text": [
      "데이터 로드 완료. 총 샘플 개수: 100\n",
      "\n",
      "--- DataLoader가 데이터를 묶어주는 방식 확인 ---\n",
      "총 100개 데이터를 batch_size=16으로 묶었습니다.\n",
      "첫 번째 배치의 Feature 모양: torch.Size([16, 3])\n",
      "첫 번째 배치의 Label 모양: torch.Size([16, 1])\n",
      "------------------------------\n",
      "첫 번째 배치의 Feature (앞 5개):\n",
      "tensor([[ 0.6267,  0.3192,  4.0000],\n",
      "        [ 0.6550,  0.5061, 14.0000],\n",
      "        [ 0.7134,  0.4461, 20.0000],\n",
      "        [ 0.9902,  0.6022, 22.0000],\n",
      "        [ 0.8612,  0.0829, 14.0000]])\n",
      "\n",
      "첫 번째 배치의 Label (앞 5개):\n",
      "tensor([[1.],\n",
      "        [0.],\n",
      "        [1.],\n",
      "        [1.],\n",
      "        [1.]])\n",
      "\n",
      "--- 전체 배치 순회 ---\n",
      "Batch 0: Features shape torch.Size([16, 3]), Labels shape torch.Size([16, 1])\n",
      "Batch 1: Features shape torch.Size([16, 3]), Labels shape torch.Size([16, 1])\n",
      "Batch 2: Features shape torch.Size([16, 3]), Labels shape torch.Size([16, 1])\n",
      "Batch 3: Features shape torch.Size([16, 3]), Labels shape torch.Size([16, 1])\n",
      "Batch 4: Features shape torch.Size([16, 3]), Labels shape torch.Size([16, 1])\n",
      "Batch 5: Features shape torch.Size([16, 3]), Labels shape torch.Size([16, 1])\n",
      "Batch 6: Features shape torch.Size([4, 3]), Labels shape torch.Size([4, 1])\n"
     ]
    }
   ],
   "execution_count": 2
  }
 ],
 "metadata": {
  "kernelspec": {
   "display_name": "Python 3",
   "language": "python",
   "name": "python3"
  },
  "language_info": {
   "codemirror_mode": {
    "name": "ipython",
    "version": 2
   },
   "file_extension": ".py",
   "mimetype": "text/x-python",
   "name": "python",
   "nbconvert_exporter": "python",
   "pygments_lexer": "ipython2",
   "version": "2.7.6"
  }
 },
 "nbformat": 4,
 "nbformat_minor": 5
}
