{
 "cells": [
  {
   "metadata": {},
   "cell_type": "markdown",
   "source": "1. NumPy와 메모리 공유 (from_numpy)",
   "id": "55f0ee9af4210f69"
  },
  {
   "metadata": {
    "collapsed": true,
    "ExecuteTime": {
     "end_time": "2025-10-20T00:05:33.992658Z",
     "start_time": "2025-10-20T00:05:32.203018Z"
    }
   },
   "cell_type": "code",
   "outputs": [
    {
     "name": "stdout",
     "output_type": "stream",
     "text": [
      "원본 NumPy 배열: [1 2 3]\n",
      "공유 텐서 (from_numpy): tensor([1, 2, 3])\n",
      "복사 텐서 (tensor): tensor([1, 2, 3])\n",
      "\n",
      "--------------------\n",
      "NumPy 배열의 0번 값을 99로 변경합니다.\n",
      "NumPy 배열: [99  2  3]\n",
      "공유 텐서 (from_numpy): tensor([99,  2,  3]) <-- 같이 바뀜!\n",
      "복사 텐서 (tensor): tensor([1, 2, 3]) <-- 안 바뀜!\n",
      "--------------------\n",
      "\n"
     ]
    }
   ],
   "execution_count": 1,
   "source": [
    "import torch\n",
    "import numpy as np\n",
    "\n",
    "# 1-1. NumPy 배열 생성\n",
    "numpy_arr = np.array([1,2,3])\n",
    "print(f\"원본 NumPy 배열: {numpy_arr}\")\n",
    "\n",
    "# 1-2. from_numpy로 텐서 생성 (메모리 공유)\n",
    "tensor_shared = torch.from_numpy(numpy_arr)\n",
    "print(f\"공유 텐서 (from_numpy): {tensor_shared}\")\n",
    "\n",
    "# 1-3. (비교) tensor()로 텐서 생성 (메모리 복사)\n",
    "tensor_copied = torch.tensor(numpy_arr)\n",
    "print(f\"복사 텐서 (tensor): {tensor_copied}\")\n",
    "\n",
    "# --- 메모리 공유 테스트 ---\n",
    "print(\"\\n\" + \"-\"*20)\n",
    "print(\"NumPy 배열의 0번 값을 99로 변경합니다.\")\n",
    "numpy_arr[0] = 99\n",
    "\n",
    "print(f\"NumPy 배열: {numpy_arr}\")\n",
    "print(f\"공유 텐서 (from_numpy): {tensor_shared} <-- 같이 바뀜!\")\n",
    "print(f\"복사 텐서 (tensor): {tensor_copied} <-- 안 바뀜!\")\n",
    "print(\"-\" * 20 + \"\\n\")"
   ],
   "id": "6e3a8dcf936a64ab"
  },
  {
   "metadata": {},
   "cell_type": "markdown",
   "source": "3일차 코드를 GPU에서 실행하기",
   "id": "55e55197b72b7539"
  },
  {
   "metadata": {
    "ExecuteTime": {
     "end_time": "2025-10-20T00:16:53.441747Z",
     "start_time": "2025-10-20T00:16:51.979986Z"
    }
   },
   "cell_type": "code",
   "source": [
    "import torch\n",
    "import torch.nn as nn\n",
    "import torch.optim as optim\n",
    "\n",
    "# --- 0. 장치 설정 (오늘의 핵심 1) ---\n",
    "device=torch.device('cuda' if torch.cuda.is_available() else 'cpu')\n",
    "print(f\"현재 학습에 사용할 장치: {device}\")\n",
    "\n",
    "# --- 1. 데이터 준비 및 GPU로 전송 (오늘의 핵심 2) ---\n",
    "x_train = torch.tensor([[0.0], [1.0], [2.0], [3.0]], dtype=torch.float32).to(device)\n",
    "y_train = torch.tensor([[1.0], [3.0], [5.0], [7.0]], dtype=torch.float32).to(device)\n",
    "\n",
    "print(f\"\\nx_train이 있는 장치: {x_train.device}\")\n",
    "\n",
    "# --- 2. 모델, 손실함수, 옵티마이저 정의 ---\n",
    "\n",
    "# 모델을 생성\n",
    "model = nn.Linear(1, 1)\n",
    "# 모델을 GPU로 전송 (오늘의 핵심 3)\n",
    "model.to(device)\n",
    "\n",
    "# 손실 함수와 옵티마이저 정의 (이것들은 GPU로 보낼 필요 없음)\n",
    "loss_fn = nn.MSELoss()\n",
    "optimizer = optim.SGD(model.parameters(), lr=0.01)\n",
    "\n",
    "# --- 3. 학습 루프 ---\n",
    "epochs = 1000\n",
    "\n",
    "for epoch in range(epochs + 1):\n",
    "\n",
    "    # 1. 순전파: model과 x_train이 모두 'device'에 있으므로 연산 가능\n",
    "    prediction = model(x_train)\n",
    "\n",
    "    # 2. 손실 계산: prediction과 y_train이 모두 'device'에 있으므로 연산 가능\n",
    "    loss = loss_fn(prediction, y_train)\n",
    "\n",
    "    # 3. 기울기 초기화\n",
    "    optimizer.zero_grad()\n",
    "\n",
    "    # 4. 역전파: loss가 'device'에 있으므로 .backward()도 GPU에서 수행됨\n",
    "    loss.backward()\n",
    "\n",
    "    # 5. 파라미터 업데이트: model.parameters()가 'device'에 있으므로 GPU에서 업데이트됨\n",
    "    optimizer.step()\n",
    "\n",
    "    if epoch % 100 == 0:\n",
    "        # .item()은 GPU/CPU 텐서에서 숫자 값만 빼올 때 사용\n",
    "        print(f\"Epoch {epoch:4d}/{epochs} | Loss: {loss.item():.4f}\")\n",
    "\n",
    "# --- 4. 예측 (예측할 데이터도 GPU로 보내야 함) ---\n",
    "# .to(device)를 잊지 마세요!\n",
    "test_x = torch.tensor([[4.0]]).to(device)\n",
    "predicted_y = model(test_x)\n",
    "\n",
    "# .item()으로 최종 결과(숫자)만 가져옴\n",
    "print(f\"\\n4시간 공부했을 때 예상 성적: {predicted_y.item():.3f} 점\")"
   ],
   "id": "1f06baa830ae70d3",
   "outputs": [
    {
     "name": "stdout",
     "output_type": "stream",
     "text": [
      "현재 학습에 사용할 장치: cpu\n",
      "\n",
      "x_train이 있는 장치: cpu\n",
      "Epoch    0/1000 | Loss: 17.0379\n",
      "Epoch  100/1000 | Loss: 0.0432\n",
      "Epoch  200/1000 | Loss: 0.0131\n",
      "Epoch  300/1000 | Loss: 0.0040\n",
      "Epoch  400/1000 | Loss: 0.0012\n",
      "Epoch  500/1000 | Loss: 0.0004\n",
      "Epoch  600/1000 | Loss: 0.0001\n",
      "Epoch  700/1000 | Loss: 0.0000\n",
      "Epoch  800/1000 | Loss: 0.0000\n",
      "Epoch  900/1000 | Loss: 0.0000\n",
      "Epoch 1000/1000 | Loss: 0.0000\n",
      "\n",
      "4시간 공부했을 때 예상 성적: 8.999 점\n"
     ]
    }
   ],
   "execution_count": 2
  }
 ],
 "metadata": {
  "kernelspec": {
   "display_name": "Python 3",
   "language": "python",
   "name": "python3"
  },
  "language_info": {
   "codemirror_mode": {
    "name": "ipython",
    "version": 2
   },
   "file_extension": ".py",
   "mimetype": "text/x-python",
   "name": "python",
   "nbconvert_exporter": "python",
   "pygments_lexer": "ipython2",
   "version": "2.7.6"
  }
 },
 "nbformat": 4,
 "nbformat_minor": 5
}
