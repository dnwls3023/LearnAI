{
 "cells": [
  {
   "cell_type": "code",
   "id": "initial_id",
   "metadata": {
    "collapsed": true,
    "ExecuteTime": {
     "end_time": "2025-10-21T21:28:18.670291Z",
     "start_time": "2025-10-21T21:28:15.424623Z"
    }
   },
   "source": [
    "import torch\n",
    "import torch.nn as nn\n",
    "\n",
    "# --- 1. 'nn.Module'을 상속받아 우리만의 모델 설계도(클래스)를 정의 ---\n",
    "class SimpleMLP(nn.Module):\n",
    "    # 1-1. __init__(self): 모델에 필요한 부품(레이어)을 정의\n",
    "    def __init__(self, input_size, hidden_size, output_size):\n",
    "        super(SimpleMLP, self).__init__() # nn.Module의 생성자를 먼저 호출\n",
    "\n",
    "        # 입력층 -> 은닉층으로 가능 첫 번째 선형 레이어\n",
    "        self.layer1 = nn.Linear(input_size, hidden_size)\n",
    "\n",
    "        # 활성화 함수 (ReLU)\n",
    "        self.relu = nn.ReLU()\n",
    "\n",
    "        # 은닉층 -> 출력층으로 가는 두 번째 선형 레이어\n",
    "        self.layer2 = nn.Linear(hidden_size, output_size)\n",
    "\n",
    "        # 활성화 함수 (Sigmoid) -> 0~1 사이 확률로 변환\n",
    "        self.sigmoid = nn.Sigmoid()\n",
    "\n",
    "    # 1-2. forward(self, x): 데이터가 흘러갈 순서를 정의\n",
    "    def forward(self, x):\n",
    "        # 1. 입력 x가 layer1을 통과\n",
    "        out = self.layer1(x)\n",
    "        # 2. 그 결과가 ReLU 활성화 함수를 통과\n",
    "        out = self.relu(out)\n",
    "        # 3. 그 결과가 layer2를 통과\n",
    "        out = self.layer2(out)\n",
    "        # 4. 최종 결과가 Sigmoid 활성화 함수를 통과\n",
    "        out = self.sigmoid(out)\n",
    "\n",
    "        # 최종 결과(0~1 사이 값)를 반환\n",
    "        return out\n",
    "\n",
    "# --- 2. 모델 객체 생성 (설계도를 바탕으로 실제 모델 만들기) ---\n",
    "\n",
    "# Feature 2개 (전세가율, 근저당비율)\n",
    "input_dim = 2\n",
    "# 은닉층의 뉴런(노드) 개수는 4개로 임의 설정\n",
    "hidden_dim = 4\n",
    "# 출력 1개 (0~1 사이의 위험 확률)\n",
    "output_dim = 1\n",
    "\n",
    "model = SimpleMLP(input_dim, hidden_dim, output_dim)\n",
    "\n",
    "# --- 3. 모델 구조 확인 ---\n",
    "print(\"--- 우리가 설계한 모델의 구조 ---\")\n",
    "print(model)\n",
    "\n",
    "# --- 4. 가상의 데이터로 테스트 ---\n",
    "# (5개 데이터, 2개 feature) - 1주차 4일차처럼 GPU로 보낼 수 있음\n",
    "# device = torch.device('cuda' if torch.cuda.is_available() else 'cpu')\n",
    "# model.to(device)\n",
    "# test_input = torch.randn(5, 2).to(device) # 5x2 크기의 랜덤 텐서\n",
    "\n",
    "# (CPU에서 간단히 테스트)\n",
    "test_input = torch.tensor([\n",
    "    [0.8, 0.1], # 샘플 1\n",
    "    [0.9, 0.3], # 샘플 2\n",
    "    [0.7, 0.0]  # 샘플 3\n",
    "], dtype=torch.float32)\n",
    "\n",
    "prediction=model(test_input)\n",
    "\n",
    "print(\"\\n--- 가상 데이터 입력 결과 ---\")\n",
    "print(f\"입력 데이터 모양: {test_input.shape}\")\n",
    "print(f\"예측 결과 모양: {prediction.shape}\")\n",
    "print(\"예측 결과 (0~1 사이의 값):\")\n",
    "# .data는 .grad 추적을 제외하고 순수 텐서 값만 보여줍니다.\n",
    "print(prediction.data)"
   ],
   "outputs": [
    {
     "name": "stdout",
     "output_type": "stream",
     "text": [
      "--- 우리가 설계한 모델의 구조 ---\n",
      "SimpleMLP(\n",
      "  (layer1): Linear(in_features=2, out_features=4, bias=True)\n",
      "  (relu): ReLU()\n",
      "  (layer2): Linear(in_features=4, out_features=1, bias=True)\n",
      "  (sigmoid): Sigmoid()\n",
      ")\n",
      "\n",
      "--- 가상 데이터 입력 결과 ---\n",
      "입력 데이터 모양: torch.Size([3, 2])\n",
      "예측 결과 모양: torch.Size([3, 1])\n",
      "예측 결과 (0~1 사이의 값):\n",
      "tensor([[0.6042],\n",
      "        [0.6137],\n",
      "        [0.5980]])\n"
     ]
    }
   ],
   "execution_count": 1
  }
 ],
 "metadata": {
  "kernelspec": {
   "display_name": "Python 3",
   "language": "python",
   "name": "python3"
  },
  "language_info": {
   "codemirror_mode": {
    "name": "ipython",
    "version": 2
   },
   "file_extension": ".py",
   "mimetype": "text/x-python",
   "name": "python",
   "nbconvert_exporter": "python",
   "pygments_lexer": "ipython2",
   "version": "2.7.6"
  }
 },
 "nbformat": 4,
 "nbformat_minor": 5
}
