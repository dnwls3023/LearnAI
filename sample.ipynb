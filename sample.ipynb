{
 "cells": [
  {
   "metadata": {},
   "cell_type": "markdown",
   "source": "PyTorch 1일차 학습",
   "id": "8a77807f92f26ee"
  },
  {
   "metadata": {
    "ExecuteTime": {
     "end_time": "2025-10-19T20:17:46.117471Z",
     "start_time": "2025-10-19T20:17:44.388160Z"
    }
   },
   "cell_type": "code",
   "source": [
    "import torch\n",
    "import pandas as pd\n",
    "import numpy as np\n",
    "\n",
    "# --- 1. 가상의 데이터 생성 (csv 파일을 읽는 부분)\n",
    "# 전세 사기 예측을 위한 간단한 가상 데이터를 만들어봅시다.\n",
    "# feature: 전세가율(jeonse_ratio), 근저당비율(debt_ratio)\n",
    "# label: 안전(0), 위험(1)\n",
    "data = {\n",
    "    'jeonse_ratio': [0.8, 0.9, 0.7, 0.95, 0.85],\n",
    "    'debt_ratio': [0.1, 0.3, 0.0, 0.4, 0.2],\n",
    "    'risk_label': [0, 1, 0, 1, 1]\n",
    "}\n",
    "\n",
    "# --- 2. Pandas DataFrame으로 데이터 불러오기\n",
    "df = pd.DataFrame(data)\n",
    "print(\"1. Pandas DataFrame:\")\n",
    "print(df)\n",
    "print(\"-\"*30)\n",
    "\n",
    "# --- 3. NumPy 배열로 변환하기\n",
    "# 모델 학습에는 순수한 숫자 데이터만 필요하므로 .values 속성을 사용\n",
    "# 예측의 입력이 될 feature와 정답인 label을 분리\n",
    "features_np = df[['jeonse_ratio', 'debt_ratio']].values\n",
    "labels_np = df['risk_label'].values\n",
    "\n",
    "print(\"2. NumPy Array (Features):\")\n",
    "print(features_np)\n",
    "print(f\"Type: {type(features_np)}\")\n",
    "print(\"-\"*30)\n",
    "\n",
    "# --- 4. PyTorch 텐서로 변환하기!\n",
    "# torch.tensor() 함수를 사용하여 NumPy 배열을 PyTorch 텐서로 변환\n",
    "features_tensor = torch.tensor(features_np, dtype=torch.float32)\n",
    "labels_tensor = torch.tensor(labels_np, dtype=torch.float32)\n",
    "\n",
    "print(\"3. PyTorch Tensor (Features):\")\n",
    "print(features_tensor)\n",
    "print(f\"Type: {type(features_tensor)}\")\n",
    "print(f\"Shape: {features_tensor.shape}\") # 모양 확인 (5개 데이터, 2개 feature)\n",
    "print(f\"Data Type: {features_tensor.dtype}\") # 데이터 타입 확인\n",
    "print(\"-\" * 30)\n",
    "\n",
    "# 레이블 텐서도 확인\n",
    "print(\"4. PyTorch Tensor (Labels):\")\n",
    "print(labels_tensor)\n",
    "print(f\"Shape: {labels_tensor.shape}\") # 모양 확인 (5개 데이터)\n",
    "\n",
    "# 참고: 레이블 텐서의 차원을 모델 입력에 맞게 [5, 1] 형태로 변경해주면 더 좋습니다.\n",
    "labels_tensor = labels_tensor.view(-1, 1)\n",
    "print(\"\\nReshaped Labels Tensor:\")\n",
    "print(labels_tensor)\n",
    "print(f\"Shape: {labels_tensor.shape}\") # 모양 확인 ([5, 1])"
   ],
   "id": "fbc121e30a2defb3",
   "outputs": [
    {
     "name": "stdout",
     "output_type": "stream",
     "text": [
      "1. Pandas DataFrame:\n",
      "   jeonse_ratio  debt_ratio  risk_label\n",
      "0          0.80         0.1           0\n",
      "1          0.90         0.3           1\n",
      "2          0.70         0.0           0\n",
      "3          0.95         0.4           1\n",
      "4          0.85         0.2           1\n",
      "------------------------------\n",
      "2. NumPy Array (Features):\n",
      "[[0.8  0.1 ]\n",
      " [0.9  0.3 ]\n",
      " [0.7  0.  ]\n",
      " [0.95 0.4 ]\n",
      " [0.85 0.2 ]]\n",
      "Type: <class 'numpy.ndarray'>\n",
      "------------------------------\n",
      "3. PyTorch Tensor (Features):\n",
      "tensor([[0.8000, 0.1000],\n",
      "        [0.9000, 0.3000],\n",
      "        [0.7000, 0.0000],\n",
      "        [0.9500, 0.4000],\n",
      "        [0.8500, 0.2000]])\n",
      "Type: <class 'torch.Tensor'>\n",
      "Shape: torch.Size([5, 2])\n",
      "Data Type: torch.float32\n",
      "------------------------------\n",
      "4. PyTorch Tensor (Labels):\n",
      "tensor([0., 1., 0., 1., 1.])\n",
      "Shape: torch.Size([5])\n",
      "\n",
      "Reshaped Labels Tensor:\n",
      "tensor([[0.],\n",
      "        [1.],\n",
      "        [0.],\n",
      "        [1.],\n",
      "        [1.]])\n",
      "Shape: torch.Size([5, 1])\n"
     ]
    }
   ],
   "execution_count": 2
  },
  {
   "metadata": {},
   "cell_type": "markdown",
   "source": "2일차",
   "id": "ae5a84fd9f35157d"
  },
  {
   "metadata": {
    "ExecuteTime": {
     "end_time": "2025-10-19T20:23:27.784052Z",
     "start_time": "2025-10-19T20:23:27.776840Z"
    }
   },
   "cell_type": "code",
   "source": [
    "import torch\n",
    "\n",
    "# 1일차에 만든 텐서 (다시 생성)\n",
    "# Shape: [5, 2] (5개 데이터, 2개 feature)\n",
    "features_tensor = torch.tensor([\n",
    "    [0.8, 0.1],\n",
    "    [0.9, 0.3],\n",
    "    [0.7, 0.0],\n",
    "    [0.95, 0.4],\n",
    "    [0.85, 0.2]\n",
    "], dtype=torch.float32)\n",
    "\n",
    "print(\"원본 텐서:\")\n",
    "print(features_tensor)\n",
    "\n",
    "# 1-1. 수학 연산 (모든 '전세가율'에 0.1씩 더하기)\n",
    "# (:, 0) -> 모든 행(:)의 0번째 열(전세가율)\n",
    "features_tensor[:, 0] = features_tensor[:, 0] + 0.1\n",
    "print(\"\\n전세가율 + 0.1 연산:\")\n",
    "print(features_tensor)\n",
    "\n",
    "# 1-2. 모양 변경 (.view() 사용)\n",
    "# 현재 [5, 2] 모양 -> [1, 10] 모양으로 바꾸기 (데이터 10개가 쭉 이어진 형태)\n",
    "# -1은 \"나머지는 알아서 계산해\"라는 뜻입니다.\n",
    "# 5*2=10이므로, .view(1, 10) 또는 .view(-1) (1차원으로 펴기) 등과 같습니다.\n",
    "reshaped_tensor = features_tensor.view(1, 10)\n",
    "print(f\"\\n모양 변경 [5, 2] -> {reshaped_tensor.shape}:\")\n",
    "print(reshaped_tensor)"
   ],
   "id": "817d577bfd4245aa",
   "outputs": [
    {
     "name": "stdout",
     "output_type": "stream",
     "text": [
      "원본 텐서:\n",
      "tensor([[0.8000, 0.1000],\n",
      "        [0.9000, 0.3000],\n",
      "        [0.7000, 0.0000],\n",
      "        [0.9500, 0.4000],\n",
      "        [0.8500, 0.2000]])\n",
      "\n",
      "전세가율 + 0.1 연산:\n",
      "tensor([[0.9000, 0.1000],\n",
      "        [1.0000, 0.3000],\n",
      "        [0.8000, 0.0000],\n",
      "        [1.0500, 0.4000],\n",
      "        [0.9500, 0.2000]])\n",
      "\n",
      "모양 변경 [5, 2] -> torch.Size([1, 10]):\n",
      "tensor([[0.9000, 0.1000, 1.0000, 0.3000, 0.8000, 0.0000, 1.0500, 0.4000, 0.9500,\n",
      "         0.2000]])\n"
     ]
    }
   ],
   "execution_count": 3
  },
  {
   "metadata": {
    "ExecuteTime": {
     "end_time": "2025-10-19T20:27:11.654381Z",
     "start_time": "2025-10-19T20:27:11.648729Z"
    }
   },
   "cell_type": "code",
   "source": [
    "# 2-1. 추적할 텐서 생성\n",
    "# w와 b는 나중에 모델의 '가중치'와 '편향'이 될, 학습 대상 파라미터입니다.\n",
    "# requires_grad=True로 설정하여 연산 과정을 추적하도록 합니다.\n",
    "w = torch.tensor(2.0, requires_grad=True)\n",
    "b = torch.tensor(1.0, requires_grad=True)\n",
    "\n",
    "# 가상의 입력 데이터 x\n",
    "x = torch.tensor(3.0)\n",
    "\n",
    "# 2-2. 연산 수행 (y = w * x + b 라는 간단한 모델)\n",
    "# y는 w, b와 연관되어 있으므로, y도 자동으로 추적됩니다.\n",
    "y = w * x + b\n",
    "print(f\"w, b, x로 계산된 y의 값: {y}\") # y = 2.0 * 3.0 + 1.0 = 7.0\n",
    "\n",
    "# 2-3. 기울기 계산 (가장 핵심적인 부분!)\n",
    "# y에 대해 .backward()를 호출합니다.\n",
    "# \"y의 값(7.0)에 대해, w와 b가 얼마나 영향을 미쳤는지 계산해줘!\"\n",
    "y.backward()\n",
    "\n",
    "# 2-4. 기울기 확인 (w.grad, b.grad)\n",
    "# y = w*x + b 를 w로 미분하면 -> x (즉, 3.0)\n",
    "# y = w*x + b 를 b로 미분하면 -> 1 (즉, 1.0)\n",
    "print(f\"\\ny를 w로 미분한 값 (w의 기울기): {w.grad}\")\n",
    "print(f\"y를 b로 미분한 값 (b의 기울기): {b.grad}\")\n",
    "\n",
    "# w.grad가 3.0이라는 의미: \"w 값을 1만큼 증가시키면, y 값은 3만큼 증가합니다.\"\n",
    "# b.grad가 1.0이라는 의미: \"b 값을 1만큼 증가시키면, y 값은 1만큼 증가합니다.\""
   ],
   "id": "6e21b31ebd63d44a",
   "outputs": [
    {
     "name": "stdout",
     "output_type": "stream",
     "text": [
      "w, b, x로 계산된 y의 값: 7.0\n",
      "\n",
      "y를 w로 미분한 값 (w의 기울기): 3.0\n",
      "y를 b로 미분한 값 (b의 기울기): 1.0\n"
     ]
    }
   ],
   "execution_count": 4
  },
  {
   "metadata": {},
   "cell_type": "markdown",
   "source": "3일차",
   "id": "49aa164c6e43fd40"
  },
  {
   "metadata": {},
   "cell_type": "code",
   "outputs": [],
   "execution_count": null,
   "source": "",
   "id": "2f4ca0ae03177e50"
  }
 ],
 "metadata": {
  "kernelspec": {
   "display_name": "Python 3",
   "language": "python",
   "name": "python3"
  },
  "language_info": {
   "codemirror_mode": {
    "name": "ipython",
    "version": 2
   },
   "file_extension": ".py",
   "mimetype": "text/x-python",
   "name": "python",
   "nbconvert_exporter": "python",
   "pygments_lexer": "ipython2",
   "version": "2.7.6"
  }
 },
 "nbformat": 4,
 "nbformat_minor": 5
}
