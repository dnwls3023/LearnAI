{
 "cells": [
  {
   "metadata": {},
   "cell_type": "markdown",
   "source": "PyTorch 1일차 학습",
   "id": "8a77807f92f26ee"
  },
  {
   "metadata": {
    "ExecuteTime": {
     "end_time": "2025-10-19T20:17:46.117471Z",
     "start_time": "2025-10-19T20:17:44.388160Z"
    }
   },
   "cell_type": "code",
   "source": [
    "import torch\n",
    "import pandas as pd\n",
    "import numpy as np\n",
    "\n",
    "# --- 1. 가상의 데이터 생성 (csv 파일을 읽는 부분)\n",
    "# 전세 사기 예측을 위한 간단한 가상 데이터를 만들어봅시다.\n",
    "# feature: 전세가율(jeonse_ratio), 근저당비율(debt_ratio)\n",
    "# label: 안전(0), 위험(1)\n",
    "data = {\n",
    "    'jeonse_ratio': [0.8, 0.9, 0.7, 0.95, 0.85],\n",
    "    'debt_ratio': [0.1, 0.3, 0.0, 0.4, 0.2],\n",
    "    'risk_label': [0, 1, 0, 1, 1]\n",
    "}\n",
    "\n",
    "# --- 2. Pandas DataFrame으로 데이터 불러오기\n",
    "df = pd.DataFrame(data)\n",
    "print(\"1. Pandas DataFrame:\")\n",
    "print(df)\n",
    "print(\"-\"*30)\n",
    "\n",
    "# --- 3. NumPy 배열로 변환하기\n",
    "# 모델 학습에는 순수한 숫자 데이터만 필요하므로 .values 속성을 사용\n",
    "# 예측의 입력이 될 feature와 정답인 label을 분리\n",
    "features_np = df[['jeonse_ratio', 'debt_ratio']].values\n",
    "labels_np = df['risk_label'].values\n",
    "\n",
    "print(\"2. NumPy Array (Features):\")\n",
    "print(features_np)\n",
    "print(f\"Type: {type(features_np)}\")\n",
    "print(\"-\"*30)\n",
    "\n",
    "# --- 4. PyTorch 텐서로 변환하기!\n",
    "# torch.tensor() 함수를 사용하여 NumPy 배열을 PyTorch 텐서로 변환\n",
    "features_tensor = torch.tensor(features_np, dtype=torch.float32)\n",
    "labels_tensor = torch.tensor(labels_np, dtype=torch.float32)\n",
    "\n",
    "print(\"3. PyTorch Tensor (Features):\")\n",
    "print(features_tensor)\n",
    "print(f\"Type: {type(features_tensor)}\")\n",
    "print(f\"Shape: {features_tensor.shape}\") # 모양 확인 (5개 데이터, 2개 feature)\n",
    "print(f\"Data Type: {features_tensor.dtype}\") # 데이터 타입 확인\n",
    "print(\"-\" * 30)\n",
    "\n",
    "# 레이블 텐서도 확인\n",
    "print(\"4. PyTorch Tensor (Labels):\")\n",
    "print(labels_tensor)\n",
    "print(f\"Shape: {labels_tensor.shape}\") # 모양 확인 (5개 데이터)\n",
    "\n",
    "# 참고: 레이블 텐서의 차원을 모델 입력에 맞게 [5, 1] 형태로 변경해주면 더 좋습니다.\n",
    "labels_tensor = labels_tensor.view(-1, 1)\n",
    "print(\"\\nReshaped Labels Tensor:\")\n",
    "print(labels_tensor)\n",
    "print(f\"Shape: {labels_tensor.shape}\") # 모양 확인 ([5, 1])"
   ],
   "id": "fbc121e30a2defb3",
   "outputs": [
    {
     "name": "stdout",
     "output_type": "stream",
     "text": [
      "1. Pandas DataFrame:\n",
      "   jeonse_ratio  debt_ratio  risk_label\n",
      "0          0.80         0.1           0\n",
      "1          0.90         0.3           1\n",
      "2          0.70         0.0           0\n",
      "3          0.95         0.4           1\n",
      "4          0.85         0.2           1\n",
      "------------------------------\n",
      "2. NumPy Array (Features):\n",
      "[[0.8  0.1 ]\n",
      " [0.9  0.3 ]\n",
      " [0.7  0.  ]\n",
      " [0.95 0.4 ]\n",
      " [0.85 0.2 ]]\n",
      "Type: <class 'numpy.ndarray'>\n",
      "------------------------------\n",
      "3. PyTorch Tensor (Features):\n",
      "tensor([[0.8000, 0.1000],\n",
      "        [0.9000, 0.3000],\n",
      "        [0.7000, 0.0000],\n",
      "        [0.9500, 0.4000],\n",
      "        [0.8500, 0.2000]])\n",
      "Type: <class 'torch.Tensor'>\n",
      "Shape: torch.Size([5, 2])\n",
      "Data Type: torch.float32\n",
      "------------------------------\n",
      "4. PyTorch Tensor (Labels):\n",
      "tensor([0., 1., 0., 1., 1.])\n",
      "Shape: torch.Size([5])\n",
      "\n",
      "Reshaped Labels Tensor:\n",
      "tensor([[0.],\n",
      "        [1.],\n",
      "        [0.],\n",
      "        [1.],\n",
      "        [1.]])\n",
      "Shape: torch.Size([5, 1])\n"
     ]
    }
   ],
   "execution_count": 2
  }
 ],
 "metadata": {
  "kernelspec": {
   "display_name": "Python 3",
   "language": "python",
   "name": "python3"
  },
  "language_info": {
   "codemirror_mode": {
    "name": "ipython",
    "version": 2
   },
   "file_extension": ".py",
   "mimetype": "text/x-python",
   "name": "python",
   "nbconvert_exporter": "python",
   "pygments_lexer": "ipython2",
   "version": "2.7.6"
  }
 },
 "nbformat": 4,
 "nbformat_minor": 5
}
